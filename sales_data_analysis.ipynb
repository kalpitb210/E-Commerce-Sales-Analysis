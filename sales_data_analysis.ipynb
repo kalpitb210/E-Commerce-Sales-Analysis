{
 "cells": [
  {
   "cell_type": "code",
   "execution_count": 1,
   "id": "9d62af55-1c40-49a2-8b94-6c3958fa20d2",
   "metadata": {},
   "outputs": [],
   "source": [
    "# Importing libraries\n",
    "import numpy as np\n",
    "import pandas as pd\n",
    "import mysql.connector\n",
    "import matplotlib.pyplot as plt\n",
    "import seaborn as sns"
   ]
  },
  {
   "cell_type": "code",
   "execution_count": 2,
   "id": "214fc9cd-506d-4cc5-8175-aee5edde7559",
   "metadata": {},
   "outputs": [],
   "source": [
    "# Creating Connection to MySQL\n",
    "conn = mysql.connector.connect(host = \"localhost\",\n",
    "                            username = \"root\",\n",
    "                            password = \"kalpit\",\n",
    "                            database = \"ecommerce\",\n",
    "                            port = 3306)"
   ]
  },
  {
   "cell_type": "code",
   "execution_count": 3,
   "id": "d4c135d5-260a-47cb-9e3e-b756b46439b2",
   "metadata": {},
   "outputs": [],
   "source": [
    "# Creating Cursor Object\n",
    "cursor = conn.cursor()"
   ]
  },
  {
   "cell_type": "code",
   "execution_count": 4,
   "id": "3d38ad3b-88e8-4bb6-b531-29009b62d7ea",
   "metadata": {},
   "outputs": [
    {
     "data": {
      "text/html": [
       "<div>\n",
       "<style scoped>\n",
       "    .dataframe tbody tr th:only-of-type {\n",
       "        vertical-align: middle;\n",
       "    }\n",
       "\n",
       "    .dataframe tbody tr th {\n",
       "        vertical-align: top;\n",
       "    }\n",
       "\n",
       "    .dataframe thead th {\n",
       "        text-align: right;\n",
       "    }\n",
       "</style>\n",
       "<table border=\"1\" class=\"dataframe\">\n",
       "  <thead>\n",
       "    <tr style=\"text-align: right;\">\n",
       "      <th></th>\n",
       "      <th>0</th>\n",
       "      <th>1</th>\n",
       "      <th>2</th>\n",
       "      <th>3</th>\n",
       "      <th>4</th>\n",
       "      <th>5</th>\n",
       "      <th>6</th>\n",
       "      <th>7</th>\n",
       "    </tr>\n",
       "  </thead>\n",
       "  <tbody>\n",
       "    <tr>\n",
       "      <th>0</th>\n",
       "      <td>e481f51cbdc54678b7cc49136f2d6af7</td>\n",
       "      <td>9ef432eb6251297304e76186b10a928d</td>\n",
       "      <td>delivered</td>\n",
       "      <td>2017-10-02 10:56:33</td>\n",
       "      <td>2017-10-02 11:07:15</td>\n",
       "      <td>2017-10-04 19:55:00</td>\n",
       "      <td>2017-10-10 21:25:13</td>\n",
       "      <td>2017-10-18 00:00:00</td>\n",
       "    </tr>\n",
       "    <tr>\n",
       "      <th>1</th>\n",
       "      <td>53cdb2fc8bc7dce0b6741e2150273451</td>\n",
       "      <td>b0830fb4747a6c6d20dea0b8c802d7ef</td>\n",
       "      <td>delivered</td>\n",
       "      <td>2018-07-24 20:41:37</td>\n",
       "      <td>2018-07-26 03:24:27</td>\n",
       "      <td>2018-07-26 14:31:00</td>\n",
       "      <td>2018-08-07 15:27:45</td>\n",
       "      <td>2018-08-13 00:00:00</td>\n",
       "    </tr>\n",
       "    <tr>\n",
       "      <th>2</th>\n",
       "      <td>47770eb9100c2d0c44946d9cf07ec65d</td>\n",
       "      <td>41ce2a54c0b03bf3443c3d931a367089</td>\n",
       "      <td>delivered</td>\n",
       "      <td>2018-08-08 08:38:49</td>\n",
       "      <td>2018-08-08 08:55:23</td>\n",
       "      <td>2018-08-08 13:50:00</td>\n",
       "      <td>2018-08-17 18:06:29</td>\n",
       "      <td>2018-09-04 00:00:00</td>\n",
       "    </tr>\n",
       "    <tr>\n",
       "      <th>3</th>\n",
       "      <td>949d5b44dbf5de918fe9c16f97b45f8a</td>\n",
       "      <td>f88197465ea7920adcdbec7375364d82</td>\n",
       "      <td>delivered</td>\n",
       "      <td>2017-11-18 19:28:06</td>\n",
       "      <td>2017-11-18 19:45:59</td>\n",
       "      <td>2017-11-22 13:39:59</td>\n",
       "      <td>2017-12-02 00:28:42</td>\n",
       "      <td>2017-12-15 00:00:00</td>\n",
       "    </tr>\n",
       "    <tr>\n",
       "      <th>4</th>\n",
       "      <td>ad21c59c0840e6cb83a9ceb5573f8159</td>\n",
       "      <td>8ab97904e6daea8866dbdbc4fb7aad2c</td>\n",
       "      <td>delivered</td>\n",
       "      <td>2018-02-13 21:18:39</td>\n",
       "      <td>2018-02-13 22:20:29</td>\n",
       "      <td>2018-02-14 19:46:34</td>\n",
       "      <td>2018-02-16 18:17:02</td>\n",
       "      <td>2018-02-26 00:00:00</td>\n",
       "    </tr>\n",
       "  </tbody>\n",
       "</table>\n",
       "</div>"
      ],
      "text/plain": [
       "                                  0                                 1  \\\n",
       "0  e481f51cbdc54678b7cc49136f2d6af7  9ef432eb6251297304e76186b10a928d   \n",
       "1  53cdb2fc8bc7dce0b6741e2150273451  b0830fb4747a6c6d20dea0b8c802d7ef   \n",
       "2  47770eb9100c2d0c44946d9cf07ec65d  41ce2a54c0b03bf3443c3d931a367089   \n",
       "3  949d5b44dbf5de918fe9c16f97b45f8a  f88197465ea7920adcdbec7375364d82   \n",
       "4  ad21c59c0840e6cb83a9ceb5573f8159  8ab97904e6daea8866dbdbc4fb7aad2c   \n",
       "\n",
       "           2                    3                    4                    5  \\\n",
       "0  delivered  2017-10-02 10:56:33  2017-10-02 11:07:15  2017-10-04 19:55:00   \n",
       "1  delivered  2018-07-24 20:41:37  2018-07-26 03:24:27  2018-07-26 14:31:00   \n",
       "2  delivered  2018-08-08 08:38:49  2018-08-08 08:55:23  2018-08-08 13:50:00   \n",
       "3  delivered  2017-11-18 19:28:06  2017-11-18 19:45:59  2017-11-22 13:39:59   \n",
       "4  delivered  2018-02-13 21:18:39  2018-02-13 22:20:29  2018-02-14 19:46:34   \n",
       "\n",
       "                     6                    7  \n",
       "0  2017-10-10 21:25:13  2017-10-18 00:00:00  \n",
       "1  2018-08-07 15:27:45  2018-08-13 00:00:00  \n",
       "2  2018-08-17 18:06:29  2018-09-04 00:00:00  \n",
       "3  2017-12-02 00:28:42  2017-12-15 00:00:00  \n",
       "4  2018-02-16 18:17:02  2018-02-26 00:00:00  "
      ]
     },
     "execution_count": 4,
     "metadata": {},
     "output_type": "execute_result"
    }
   ],
   "source": [
    "# Checking Data\n",
    "query = \"\"\" \n",
    "        SELECT * FROM Orders \n",
    "                            \"\"\"\n",
    "cursor.execute(query)\n",
    "\n",
    "data = cursor.fetchall()\n",
    "\n",
    "df = pd.DataFrame(data)\n",
    "df.head()"
   ]
  },
  {
   "cell_type": "markdown",
   "id": "58eb825f-9696-4363-b031-8e5d9ab0f116",
   "metadata": {},
   "source": [
    "######"
   ]
  },
  {
   "cell_type": "markdown",
   "id": "785edc3a-5217-4b51-9a6c-5ea19e66aabb",
   "metadata": {},
   "source": [
    "######"
   ]
  },
  {
   "cell_type": "markdown",
   "id": "43a343a4-50c8-4026-86d5-503d8914b640",
   "metadata": {},
   "source": [
    "### List all unique cities where customers are located."
   ]
  },
  {
   "cell_type": "code",
   "execution_count": 5,
   "id": "6a98142e-9e3e-40e4-b74e-0e8a9f208751",
   "metadata": {},
   "outputs": [
    {
     "data": {
      "text/html": [
       "<div>\n",
       "<style scoped>\n",
       "    .dataframe tbody tr th:only-of-type {\n",
       "        vertical-align: middle;\n",
       "    }\n",
       "\n",
       "    .dataframe tbody tr th {\n",
       "        vertical-align: top;\n",
       "    }\n",
       "\n",
       "    .dataframe thead th {\n",
       "        text-align: right;\n",
       "    }\n",
       "</style>\n",
       "<table border=\"1\" class=\"dataframe\">\n",
       "  <thead>\n",
       "    <tr style=\"text-align: right;\">\n",
       "      <th></th>\n",
       "      <th>cities</th>\n",
       "    </tr>\n",
       "  </thead>\n",
       "  <tbody>\n",
       "    <tr>\n",
       "      <th>0</th>\n",
       "      <td>franca</td>\n",
       "    </tr>\n",
       "    <tr>\n",
       "      <th>1</th>\n",
       "      <td>sao bernardo do campo</td>\n",
       "    </tr>\n",
       "    <tr>\n",
       "      <th>2</th>\n",
       "      <td>sao paulo</td>\n",
       "    </tr>\n",
       "    <tr>\n",
       "      <th>3</th>\n",
       "      <td>mogi das cruzes</td>\n",
       "    </tr>\n",
       "    <tr>\n",
       "      <th>4</th>\n",
       "      <td>campinas</td>\n",
       "    </tr>\n",
       "    <tr>\n",
       "      <th>...</th>\n",
       "      <td>...</td>\n",
       "    </tr>\n",
       "    <tr>\n",
       "      <th>4114</th>\n",
       "      <td>siriji</td>\n",
       "    </tr>\n",
       "    <tr>\n",
       "      <th>4115</th>\n",
       "      <td>natividade da serra</td>\n",
       "    </tr>\n",
       "    <tr>\n",
       "      <th>4116</th>\n",
       "      <td>monte bonito</td>\n",
       "    </tr>\n",
       "    <tr>\n",
       "      <th>4117</th>\n",
       "      <td>sao rafael</td>\n",
       "    </tr>\n",
       "    <tr>\n",
       "      <th>4118</th>\n",
       "      <td>eugenio de castro</td>\n",
       "    </tr>\n",
       "  </tbody>\n",
       "</table>\n",
       "<p>4119 rows × 1 columns</p>\n",
       "</div>"
      ],
      "text/plain": [
       "                     cities\n",
       "0                    franca\n",
       "1     sao bernardo do campo\n",
       "2                 sao paulo\n",
       "3           mogi das cruzes\n",
       "4                  campinas\n",
       "...                     ...\n",
       "4114                 siriji\n",
       "4115    natividade da serra\n",
       "4116           monte bonito\n",
       "4117             sao rafael\n",
       "4118      eugenio de castro\n",
       "\n",
       "[4119 rows x 1 columns]"
      ]
     },
     "execution_count": 5,
     "metadata": {},
     "output_type": "execute_result"
    }
   ],
   "source": [
    "query = \"\"\" select distinct customer_city from customers \"\"\"\n",
    "cursor.execute(query)\n",
    "\n",
    "data = cursor.fetchall()\n",
    "#data\n",
    "\n",
    "df = pd.DataFrame(data, columns=[\"cities\"])\n",
    "df"
   ]
  },
  {
   "cell_type": "markdown",
   "id": "dc796db5-9f0d-4b46-b01e-0cec86697f4b",
   "metadata": {},
   "source": [
    "######"
   ]
  },
  {
   "cell_type": "markdown",
   "id": "64dcc7b8-794f-4e38-8313-79a6f30172fd",
   "metadata": {},
   "source": [
    "### Count the number of orders placed in 2017."
   ]
  },
  {
   "cell_type": "code",
   "execution_count": 6,
   "id": "7616f493-5fd5-4aef-8889-75cef91b2249",
   "metadata": {},
   "outputs": [
    {
     "name": "stdout",
     "output_type": "stream",
     "text": [
      "'Number of Orders placed in 2017' ==> 45101\n"
     ]
    }
   ],
   "source": [
    "query = \"\"\" \n",
    "        SELECT COUNT(*) \"Number of Orders\" from Orders WHERE YEAR(order_purchase_timestamp)=2017; \n",
    "        \"\"\"\n",
    "cursor.execute(query)\n",
    "\n",
    "data = cursor.fetchall()\n",
    "#data\n",
    "\n",
    "df = pd.DataFrame(data)\n",
    "#df\n",
    "#df[0][0]\n",
    "\n",
    "print(f\"'Number of Orders placed in 2017' ==> {df[0][0]}\")"
   ]
  },
  {
   "cell_type": "markdown",
   "id": "573d4326-ef8d-4c3a-ab11-a8e358d0c540",
   "metadata": {},
   "source": [
    "######"
   ]
  },
  {
   "cell_type": "markdown",
   "id": "c02a8b01-501f-4939-938e-30fc6caa4bb9",
   "metadata": {},
   "source": [
    "### Count the Number of Customers from each state."
   ]
  },
  {
   "cell_type": "code",
   "execution_count": 7,
   "id": "0f292dd7-9b64-4f76-85c6-c74391268fec",
   "metadata": {},
   "outputs": [
    {
     "data": {
      "text/html": [
       "<div>\n",
       "<style scoped>\n",
       "    .dataframe tbody tr th:only-of-type {\n",
       "        vertical-align: middle;\n",
       "    }\n",
       "\n",
       "    .dataframe tbody tr th {\n",
       "        vertical-align: top;\n",
       "    }\n",
       "\n",
       "    .dataframe thead th {\n",
       "        text-align: right;\n",
       "    }\n",
       "</style>\n",
       "<table border=\"1\" class=\"dataframe\">\n",
       "  <thead>\n",
       "    <tr style=\"text-align: right;\">\n",
       "      <th></th>\n",
       "      <th>State</th>\n",
       "      <th>Count</th>\n",
       "    </tr>\n",
       "  </thead>\n",
       "  <tbody>\n",
       "    <tr>\n",
       "      <th>26</th>\n",
       "      <td>RR</td>\n",
       "      <td>46</td>\n",
       "    </tr>\n",
       "    <tr>\n",
       "      <th>13</th>\n",
       "      <td>DF</td>\n",
       "      <td>2140</td>\n",
       "    </tr>\n",
       "    <tr>\n",
       "      <th>8</th>\n",
       "      <td>ES</td>\n",
       "      <td>2033</td>\n",
       "    </tr>\n",
       "    <tr>\n",
       "      <th>18</th>\n",
       "      <td>AP</td>\n",
       "      <td>68</td>\n",
       "    </tr>\n",
       "    <tr>\n",
       "      <th>11</th>\n",
       "      <td>MS</td>\n",
       "      <td>715</td>\n",
       "    </tr>\n",
       "  </tbody>\n",
       "</table>\n",
       "</div>"
      ],
      "text/plain": [
       "   State  Count\n",
       "26    RR     46\n",
       "13    DF   2140\n",
       "8     ES   2033\n",
       "18    AP     68\n",
       "11    MS    715"
      ]
     },
     "execution_count": 7,
     "metadata": {},
     "output_type": "execute_result"
    }
   ],
   "source": [
    "query = \"\"\" \n",
    "        SELECT Customer_State, COUNT(*) FROM Customers GROUP BY Customer_State;\n",
    "        \"\"\"\n",
    "cursor.execute(query)\n",
    "\n",
    "data = cursor.fetchall()\n",
    "#data\n",
    "\n",
    "df = pd.DataFrame(data, columns=[\"State\", \"Count\"])\n",
    "df.sample(5)"
   ]
  },
  {
   "cell_type": "code",
   "execution_count": 8,
   "id": "acd1cc99-6e62-4d9e-acf9-e7a4ef832fb7",
   "metadata": {},
   "outputs": [
    {
     "data": {
      "image/png": "[encoded data removed]",
      "text/plain": [
       "<Figure size 1000x500 with 1 Axes>"
      ]
     },
     "metadata": {},
     "output_type": "display_data"
    }
   ],
   "source": [
    "x = df[\"State\"]\n",
    "y = df[\"Count\"]\n",
    "\n",
    "plt.figure(figsize=(10, 5))\n",
    "plt.bar(x,y)\n",
    "plt.show()"
   ]
  },
  {
   "cell_type": "markdown",
   "id": "c39c5f01-5fa0-4c41-94b0-fff2b8ba5426",
   "metadata": {},
   "source": [
    "######"
   ]
  },
  {
   "cell_type": "markdown",
   "id": "18f8c896-63e3-4f6c-8904-62c06fa677e4",
   "metadata": {},
   "source": [
    "### Calculate the percentage of orders that were paid in installments."
   ]
  },
  {
   "cell_type": "code",
   "execution_count": 9,
   "id": "1bd1a606-bf22-4b3d-8746-498cda798204",
   "metadata": {},
   "outputs": [
    {
     "name": "stdout",
     "output_type": "stream",
     "text": [
      "'Percentage of Orders that were paid in Installments' ==> 49.4176 %\n"
     ]
    }
   ],
   "source": [
    "query = \"\"\" \n",
    "        SELECT CONCAT((SUM(CASE WHEN payment_installments > 1 THEN 1 ELSE 0 END) / COUNT(*))*100, \" %\") \n",
    "    \t   AS Installment_Ratio\n",
    "        FROM Payments; \n",
    "        \"\"\"\n",
    "cursor.execute(query)\n",
    "\n",
    "data = cursor.fetchall()\n",
    "#data\n",
    "\n",
    "df = pd.DataFrame(data)\n",
    "#df\n",
    "#df[0][0]\n",
    "print(f\"'Percentage of Orders that were paid in Installments' ==> {df[0][0]}\")"
   ]
  },
  {
   "cell_type": "markdown",
   "id": "5ed3a9e0-7baa-4ad3-b201-6e16669cbebc",
   "metadata": {},
   "source": [
    "######"
   ]
  },
  {
   "cell_type": "markdown",
   "id": "783cdb0b-23d6-4abc-940d-efd29c391448",
   "metadata": {},
   "source": [
    "### Find the total sales per category."
   ]
  },
  {
   "cell_type": "code",
   "execution_count": null,
   "id": "7731d5a9-0aa4-4752-ae32-c4a8d21c1513",
   "metadata": {},
   "outputs": [],
   "source": []
  },
  {
   "cell_type": "markdown",
   "id": "948c0bb0-98a6-4d69-8a51-2b126e0ab13e",
   "metadata": {},
   "source": [
    "######"
   ]
  },
  {
   "cell_type": "markdown",
   "id": "fef26f25-743a-47ab-bfd0-0a6de52004df",
   "metadata": {},
   "source": [
    "### Calculate the number of orders per month in 2018."
   ]
  },
  {
   "cell_type": "code",
   "execution_count": 10,
   "id": "0e27ccdd-2ffb-4f78-b885-3a4e5c27fbab",
   "metadata": {},
   "outputs": [
    {
     "data": {
      "text/html": [
       "<div>\n",
       "<style scoped>\n",
       "    .dataframe tbody tr th:only-of-type {\n",
       "        vertical-align: middle;\n",
       "    }\n",
       "\n",
       "    .dataframe tbody tr th {\n",
       "        vertical-align: top;\n",
       "    }\n",
       "\n",
       "    .dataframe thead th {\n",
       "        text-align: right;\n",
       "    }\n",
       "</style>\n",
       "<table border=\"1\" class=\"dataframe\">\n",
       "  <thead>\n",
       "    <tr style=\"text-align: right;\">\n",
       "      <th></th>\n",
       "      <th>Month</th>\n",
       "      <th>Order_Count</th>\n",
       "    </tr>\n",
       "  </thead>\n",
       "  <tbody>\n",
       "    <tr>\n",
       "      <th>0</th>\n",
       "      <td>July</td>\n",
       "      <td>6292</td>\n",
       "    </tr>\n",
       "    <tr>\n",
       "      <th>1</th>\n",
       "      <td>August</td>\n",
       "      <td>6512</td>\n",
       "    </tr>\n",
       "    <tr>\n",
       "      <th>2</th>\n",
       "      <td>February</td>\n",
       "      <td>6728</td>\n",
       "    </tr>\n",
       "    <tr>\n",
       "      <th>3</th>\n",
       "      <td>June</td>\n",
       "      <td>6167</td>\n",
       "    </tr>\n",
       "    <tr>\n",
       "      <th>4</th>\n",
       "      <td>March</td>\n",
       "      <td>7211</td>\n",
       "    </tr>\n",
       "    <tr>\n",
       "      <th>5</th>\n",
       "      <td>January</td>\n",
       "      <td>7269</td>\n",
       "    </tr>\n",
       "    <tr>\n",
       "      <th>6</th>\n",
       "      <td>May</td>\n",
       "      <td>6873</td>\n",
       "    </tr>\n",
       "    <tr>\n",
       "      <th>7</th>\n",
       "      <td>April</td>\n",
       "      <td>6939</td>\n",
       "    </tr>\n",
       "    <tr>\n",
       "      <th>8</th>\n",
       "      <td>September</td>\n",
       "      <td>16</td>\n",
       "    </tr>\n",
       "    <tr>\n",
       "      <th>9</th>\n",
       "      <td>October</td>\n",
       "      <td>4</td>\n",
       "    </tr>\n",
       "  </tbody>\n",
       "</table>\n",
       "</div>"
      ],
      "text/plain": [
       "       Month  Order_Count\n",
       "0       July         6292\n",
       "1     August         6512\n",
       "2   February         6728\n",
       "3       June         6167\n",
       "4      March         7211\n",
       "5    January         7269\n",
       "6        May         6873\n",
       "7      April         6939\n",
       "8  September           16\n",
       "9    October            4"
      ]
     },
     "execution_count": 10,
     "metadata": {},
     "output_type": "execute_result"
    }
   ],
   "source": [
    "query = \"\"\" \n",
    "        SELECT \n",
    "            MONTHNAME(order_purchase_timestamp) \"Month\", \n",
    "            COUNT(*) \"Order_Count\"\n",
    "        FROM Orders \n",
    "        WHERE \n",
    "            YEAR(order_purchase_timestamp)=2018\n",
    "        GROUP BY \n",
    "            MONTHNAME(order_purchase_timestamp);\n",
    "        \"\"\"\n",
    "cursor.execute(query)\n",
    "\n",
    "data = cursor.fetchall()\n",
    "#data\n",
    "\n",
    "df = pd.DataFrame(data, columns=[\"Month\", \"Order_Count\"])\n",
    "df"
   ]
  },
  {
   "cell_type": "code",
   "execution_count": 11,
   "id": "4724cae8-9773-477e-9e10-5499d0e6e281",
   "metadata": {},
   "outputs": [
    {
     "data": {
      "image/png": "[encoded data removed]",
      "text/plain": [
       "<Figure size 1000x500 with 1 Axes>"
      ]
     },
     "metadata": {},
     "output_type": "display_data"
    }
   ],
   "source": [
    "x = df[\"Month\"]\n",
    "y = df[\"Order_Count\"]\n",
    "\n",
    "plt.figure(figsize=(10, 5))\n",
    "plt.bar(x,y)\n",
    "plt.show()"
   ]
  },
  {
   "cell_type": "markdown",
   "id": "d9f8437a-f48d-4190-91d5-a3673bd7ee7f",
   "metadata": {},
   "source": [
    "######"
   ]
  },
  {
   "cell_type": "markdown",
   "id": "25f6b797-09d6-49af-9f4e-3a33893bce41",
   "metadata": {},
   "source": [
    "### Find the average number of products per order, grouped by customer city."
   ]
  },
  {
   "cell_type": "code",
   "execution_count": null,
   "id": "fc7061c3-6a14-4af5-97db-1dabea916206",
   "metadata": {},
   "outputs": [],
   "source": []
  }
 ],
 "metadata": {
  "kernelspec": {
   "display_name": "Python 3 (ipykernel)",
   "language": "python",
   "name": "python3"
  },
  "language_info": {
   "codemirror_mode": {
    "name": "ipython",
    "version": 3
   },
   "file_extension": ".py",
   "mimetype": "text/x-python",
   "name": "python",
   "nbconvert_exporter": "python",
   "pygments_lexer": "ipython3",
   "version": "3.11.5"
  }
 },
 "nbformat": 4,
 "nbformat_minor": 5
}
